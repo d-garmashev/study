{
 "cells": [
  {
   "cell_type": "code",
   "execution_count": 2,
   "metadata": {
    "collapsed": false
   },
   "outputs": [
    {
     "name": "stdout",
     "output_type": "stream",
     "text": [
      "Введите количество человек: 2\n",
      "Введите блюда в расчете на одного человека (через запятую): стейк, салат\n",
      "лук 2 шт.\n",
      "говядина 600 гр.\n",
      "помидоры 200 гр.\n",
      "масло 220 мл.\n",
      "специи 10 гр.\n",
      "огурцы 200 гр.\n",
      "Список рецептов из файла json:\n",
      " {'стейк': [{'quantity': 300, 'measure': 'гр.', 'ingridient_name': 'говядина'}, {'quantity': 5, 'measure': 'гр.', 'ingridient_name': 'специи'}, {'quantity': 10, 'measure': 'мл.', 'ingridient_name': 'масло'}], 'яичница': [{'quantity': 2, 'measure': 'шт.', 'ingridient_name': 'яйца'}, {'quantity': 100, 'measure': 'гр.', 'ingridient_name': 'помидоры'}], 'салат': [{'quantity': 100, 'measure': 'гр.', 'ingridient_name': 'помидоры'}, {'quantity': 100, 'measure': 'гр.', 'ingridient_name': 'огурцы'}, {'quantity': 100, 'measure': 'мл.', 'ingridient_name': 'масло'}, {'quantity': 1, 'measure': 'шт.', 'ingridient_name': 'лук'}]}\n",
      "Список рецептов из файла yaml:\n",
      " {'салат': [{'quantity': 100, 'measure': 'гр.', 'ingridient_name': 'помидоры'}, {'quantity': 100, 'measure': 'гр.', 'ingridient_name': 'огурцы'}, {'quantity': 100, 'measure': 'мл.', 'ingridient_name': 'масло'}, {'quantity': 1, 'measure': 'шт.', 'ingridient_name': 'лук'}], 'яичница': [{'quantity': 2, 'measure': 'шт.', 'ingridient_name': 'яйца'}, {'quantity': 100, 'measure': 'гр.', 'ingridient_name': 'помидоры'}], 'стейк': [{'quantity': 300, 'measure': 'гр.', 'ingridient_name': 'говядина'}, {'quantity': 5, 'measure': 'гр.', 'ingridient_name': 'специи'}, {'quantity': 10, 'measure': 'мл.', 'ingridient_name': 'масло'}]}\n"
     ]
    }
   ],
   "source": [
    "cook_book = {\n",
    "      'яичница': [\n",
    "        {'ingridient_name': 'яйца', 'quantity': 2, 'measure': 'шт.'},\n",
    "        {'ingridient_name': 'помидоры', 'quantity': 100, 'measure': 'гр.'}\n",
    "        ],\n",
    "      'стейк': [\n",
    "        {'ingridient_name': 'говядина', 'quantity': 300, 'measure': 'гр.'},\n",
    "        {'ingridient_name': 'специи', 'quantity': 5, 'measure': 'гр.'},\n",
    "        {'ingridient_name': 'масло', 'quantity': 10, 'measure': 'мл.'}\n",
    "        ],\n",
    "      'салат': [\n",
    "        {'ingridient_name': 'помидоры', 'quantity': 100, 'measure': 'гр.'},\n",
    "        {'ingridient_name': 'огурцы', 'quantity': 100, 'measure': 'гр.'},\n",
    "        {'ingridient_name': 'масло', 'quantity': 100, 'measure': 'мл.'},\n",
    "        {'ingridient_name': 'лук', 'quantity': 1, 'measure': 'шт.'}\n",
    "        ]\n",
    "      }\n",
    "\n",
    "\n",
    "def get_shop_list_by_dishes(dishes, person_count):\n",
    "    shop_list = {}\n",
    "    for dish in dishes:\n",
    "        for ingridient in cook_book[dish]:\n",
    "            new_shop_list_item = dict(ingridient)\n",
    "            new_shop_list_item['quantity'] *= person_count\n",
    "            if new_shop_list_item['ingridient_name'] not in shop_list:\n",
    "                shop_list[new_shop_list_item['ingridient_name']] = new_shop_list_item\n",
    "            else:\n",
    "                shop_list[new_shop_list_item['ingridient_name']]['quantity'] += new_shop_list_item['quantity']\n",
    "    return shop_list\n",
    "\n",
    "def print_shop_list(shop_list):\n",
    "    for shop_list_item in shop_list.values():\n",
    "        print('{} {} {}'.format(shop_list_item['ingridient_name'], shop_list_item['quantity'], \n",
    "                                shop_list_item['measure']))\n",
    "\n",
    "def create_shop_list():\n",
    "    person_count = int(input('Введите количество человек: '))\n",
    "    dishes = input('Введите блюда в расчете на одного человека (через запятую): ').lower().split(', ')\n",
    "    shop_list = get_shop_list_by_dishes(dishes, person_count)\n",
    "    print_shop_list(shop_list)\n",
    "\n",
    "create_shop_list()\n",
    "    \n",
    "\n",
    "import json\n",
    "\n",
    "with open('cook_book_json.txt', 'w') as f:\n",
    "    json.dump(cook_book, f, ensure_ascii=False)\n",
    "\n",
    "with open('cook_book_json.txt', 'r') as f:\n",
    "    cook_book_json = json.load(f)\n",
    "\n",
    "print('Список рецептов из файла json:\\n',cook_book_json)\n",
    "\n",
    "import yaml\n",
    "\n",
    "with open('cook_book.yml', 'w') as outfile:\n",
    "    yaml.dump(cook_book, outfile, default_flow_style=False)\n",
    "\n",
    "with open('cook_book.yml', 'r') as f:\n",
    "    try:\n",
    "        cook_book_from_yaml = yaml.load(f)\n",
    "    except yaml.YAMLError as exc:\n",
    "        print(exc)\n",
    "print('Список рецептов из файла yaml:\\n',cook_book_from_yaml)"
   ]
  },
  {
   "cell_type": "code",
   "execution_count": null,
   "metadata": {
    "collapsed": true
   },
   "outputs": [],
   "source": []
  }
 ],
 "metadata": {
  "anaconda-cloud": {},
  "kernelspec": {
   "display_name": "Python [default]",
   "language": "python",
   "name": "python3"
  },
  "language_info": {
   "codemirror_mode": {
    "name": "ipython",
    "version": 3
   },
   "file_extension": ".py",
   "mimetype": "text/x-python",
   "name": "python",
   "nbconvert_exporter": "python",
   "pygments_lexer": "ipython3",
   "version": "3.5.2"
  }
 },
 "nbformat": 4,
 "nbformat_minor": 1
}
